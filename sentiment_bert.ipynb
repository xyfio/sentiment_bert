{
 "cells": [
  {
   "cell_type": "markdown",
   "metadata": {
    "id": "2GEROk8kebEE"
   },
   "source": [
    "NLP\n",
    "\n",
    "- **Traditional machine learning models and neural networks** cannot capture the sequential information \n",
    "- People started using **recurrent neural networks (RNN and LSTM)** because these architectures can model sequential information present in the text\n",
    "  + But RNNs can not be parallelized as they take one input at a time (one token at a time as input = time consuming)\n",
    "- **Transformers** were introduced (BERT and GPT-2) \n",
    "   + do not process an input sequence token by token rather they take the entire sequence as input in one go\n",
    "   + do not need labeled data to pre-train these models. It means that we have to just provide a huge amount of unlabeled text data to train a transformer-based model.\n"
   ]
  },
  {
   "cell_type": "markdown",
   "metadata": {
    "id": "Q9fyODGOH0fS"
   },
   "source": [
    "Fine-tuning Techniques\n",
    "1. **Train the entire architecture**; training pre-trained model on own dataset\n",
    "\n",
    "2. **Train some layers while freezing others (training pre-trained model partially)**; keep first few layer weights frozen while re-training higher layers\n",
    "\n",
    "3. **Freeze entire pre-trained model** and attach own neural network layers & train on new model (note: only weights of attached layers will be updated)\n",
    "\n",
    "  #Method 3; to freeze all the parameters include below 2 lines of code:\n",
    "  for param in bert.parameters():\n",
    "      param.requires_grad = False\n",
    "\n"
   ]
  },
  {
   "cell_type": "markdown",
   "metadata": {
    "id": "EEaH1iq1gSqZ"
   },
   "source": [
    "**This notebook uses method (1) - fine-tune pre-trained BERT model on twitter sentiment analysis dataset**"
   ]
  },
  {
   "cell_type": "code",
   "execution_count": 1,
   "metadata": {
    "colab": {
     "base_uri": "https://localhost:8080/"
    },
    "id": "c_8pdKCGd9xQ",
    "outputId": "3e364ce5-86b1-4f78-bb3d-3498a73cbf2b"
   },
   "outputs": [
    {
     "name": "stdout",
     "output_type": "stream",
     "text": [
      "Mounted at /content/drive/\n"
     ]
    }
   ],
   "source": [
    "# mount drive\n",
    "from google.colab import drive\n",
    "drive.mount('/content/drive/')"
   ]
  },
  {
   "cell_type": "code",
   "execution_count": 2,
   "metadata": {
    "colab": {
     "base_uri": "https://localhost:8080/"
    },
    "id": "8V9rKZjPee7P",
    "outputId": "6c2d73c5-0369-4467-aa79-0dacb02fcad9"
   },
   "outputs": [
    {
     "name": "stdout",
     "output_type": "stream",
     "text": [
      "Collecting transformers\n",
      "\u001b[?25l  Downloading https://files.pythonhosted.org/packages/98/87/ef312eef26f5cecd8b17ae9654cdd8d1fae1eb6dbd87257d6d73c128a4d0/transformers-4.3.2-py3-none-any.whl (1.8MB)\n",
      "\u001b[K     |████████████████████████████████| 1.8MB 6.2MB/s \n",
      "\u001b[?25hRequirement already satisfied: tqdm>=4.27 in /usr/local/lib/python3.6/dist-packages (from transformers) (4.41.1)\n",
      "Requirement already satisfied: numpy>=1.17 in /usr/local/lib/python3.6/dist-packages (from transformers) (1.19.5)\n",
      "Requirement already satisfied: dataclasses; python_version < \"3.7\" in /usr/local/lib/python3.6/dist-packages (from transformers) (0.8)\n",
      "Requirement already satisfied: requests in /usr/local/lib/python3.6/dist-packages (from transformers) (2.23.0)\n",
      "Requirement already satisfied: filelock in /usr/local/lib/python3.6/dist-packages (from transformers) (3.0.12)\n",
      "Requirement already satisfied: packaging in /usr/local/lib/python3.6/dist-packages (from transformers) (20.9)\n",
      "Requirement already satisfied: regex!=2019.12.17 in /usr/local/lib/python3.6/dist-packages (from transformers) (2019.12.20)\n",
      "Collecting tokenizers<0.11,>=0.10.1\n",
      "\u001b[?25l  Downloading https://files.pythonhosted.org/packages/fd/5b/44baae602e0a30bcc53fbdbc60bd940c15e143d252d658dfdefce736ece5/tokenizers-0.10.1-cp36-cp36m-manylinux2010_x86_64.whl (3.2MB)\n",
      "\u001b[K     |████████████████████████████████| 3.2MB 20.7MB/s \n",
      "\u001b[?25hRequirement already satisfied: importlib-metadata; python_version < \"3.8\" in /usr/local/lib/python3.6/dist-packages (from transformers) (3.4.0)\n",
      "Collecting sacremoses\n",
      "\u001b[?25l  Downloading https://files.pythonhosted.org/packages/7d/34/09d19aff26edcc8eb2a01bed8e98f13a1537005d31e95233fd48216eed10/sacremoses-0.0.43.tar.gz (883kB)\n",
      "\u001b[K     |████████████████████████████████| 890kB 53.3MB/s \n",
      "\u001b[?25hRequirement already satisfied: urllib3!=1.25.0,!=1.25.1,<1.26,>=1.21.1 in /usr/local/lib/python3.6/dist-packages (from requests->transformers) (1.24.3)\n",
      "Requirement already satisfied: certifi>=2017.4.17 in /usr/local/lib/python3.6/dist-packages (from requests->transformers) (2020.12.5)\n",
      "Requirement already satisfied: chardet<4,>=3.0.2 in /usr/local/lib/python3.6/dist-packages (from requests->transformers) (3.0.4)\n",
      "Requirement already satisfied: idna<3,>=2.5 in /usr/local/lib/python3.6/dist-packages (from requests->transformers) (2.10)\n",
      "Requirement already satisfied: pyparsing>=2.0.2 in /usr/local/lib/python3.6/dist-packages (from packaging->transformers) (2.4.7)\n",
      "Requirement already satisfied: zipp>=0.5 in /usr/local/lib/python3.6/dist-packages (from importlib-metadata; python_version < \"3.8\"->transformers) (3.4.0)\n",
      "Requirement already satisfied: typing-extensions>=3.6.4; python_version < \"3.8\" in /usr/local/lib/python3.6/dist-packages (from importlib-metadata; python_version < \"3.8\"->transformers) (3.7.4.3)\n",
      "Requirement already satisfied: six in /usr/local/lib/python3.6/dist-packages (from sacremoses->transformers) (1.15.0)\n",
      "Requirement already satisfied: click in /usr/local/lib/python3.6/dist-packages (from sacremoses->transformers) (7.1.2)\n",
      "Requirement already satisfied: joblib in /usr/local/lib/python3.6/dist-packages (from sacremoses->transformers) (1.0.0)\n",
      "Building wheels for collected packages: sacremoses\n",
      "  Building wheel for sacremoses (setup.py) ... \u001b[?25l\u001b[?25hdone\n",
      "  Created wheel for sacremoses: filename=sacremoses-0.0.43-cp36-none-any.whl size=893261 sha256=649a493e28de05db06e3d97c31b670371cffc11b6c731cc218f9a752d8bb4684\n",
      "  Stored in directory: /root/.cache/pip/wheels/29/3c/fd/7ce5c3f0666dab31a50123635e6fb5e19ceb42ce38d4e58f45\n",
      "Successfully built sacremoses\n",
      "Installing collected packages: tokenizers, sacremoses, transformers\n",
      "Successfully installed sacremoses-0.0.43 tokenizers-0.10.1 transformers-4.3.2\n"
     ]
    }
   ],
   "source": [
    "!pip install transformers"
   ]
  },
  {
   "cell_type": "code",
   "execution_count": 3,
   "metadata": {
    "colab": {
     "base_uri": "https://localhost:8080/"
    },
    "id": "jP9ue3-Bee5B",
    "outputId": "3e57f12a-dd10-49fd-fc0a-9d23d177e72f"
   },
   "outputs": [
    {
     "data": {
      "text/plain": [
       "<torch._C.Generator at 0x7f6a3782da50>"
      ]
     },
     "execution_count": 3,
     "metadata": {
      "tags": []
     },
     "output_type": "execute_result"
    }
   ],
   "source": [
    "import os, random, pickle, logging, os.path, re\n",
    "import pandas as pd\n",
    "import numpy as np\n",
    "import math\n",
    "from tqdm.notebook import tqdm\n",
    "from tqdm import trange\n",
    "from collections import defaultdict\n",
    "import seaborn as sns\n",
    "import matplotlib.pyplot as plt \n",
    "\n",
    "from sklearn.model_selection import train_test_split\n",
    "from sklearn.preprocessing import MultiLabelBinarizer\n",
    "from sklearn.metrics import accuracy_score, confusion_matrix, f1_score, precision_score, recall_score    \n",
    "from sklearn.feature_extraction.text import TfidfVectorizer\n",
    "from sklearn.model_selection import StratifiedKFold, cross_val_score\n",
    "from sklearn.naive_bayes import MultinomialNB\n",
    "from sklearn.multiclass import OneVsRestClassifier\n",
    "from xgboost import XGBClassifier\n",
    "from sklearn.pipeline import Pipeline\n",
    "\n",
    "import torch\n",
    "import torch.autograd as autograd\n",
    "from torch.autograd import Variable\n",
    "import torch.nn as nn\n",
    "import torch.optim as optim\n",
    "from torch.nn import BCEWithLogitsLoss\n",
    "from torch.utils.data import TensorDataset, Dataset, DataLoader, RandomSampler, SequentialSampler\n",
    "from transformers import BertModel, BertConfig, BertTokenizer, AdamW, get_linear_schedule_with_warmup\n",
    "from keras.preprocessing.sequence import pad_sequences\n",
    "#from transformers import DistilBertModel, DistilBertTokenizer, DistilBertConfig, AdamW\n",
    "#from transformers import RobertaModel, RobertaTokenizer, RobertaForSequenceClassification, RobertaConfig\n",
    "\n",
    "seed = 42\n",
    "random.seed(seed)\n",
    "np.random.seed(seed)\n",
    "torch.manual_seed(seed)\n",
    "\n",
    "# BASE_PATH = '/content/drive/My Drive'\n",
    "# data_folder = '/content/drive/My Drive/colab_data'"
   ]
  },
  {
   "cell_type": "code",
   "execution_count": 4,
   "metadata": {
    "colab": {
     "base_uri": "https://localhost:8080/"
    },
    "id": "oO4DhX5-BFAf",
    "outputId": "7fec124e-4f65-4595-c3d1-c26962b40276"
   },
   "outputs": [
    {
     "name": "stdout",
     "output_type": "stream",
     "text": [
      "Number of GPU Available: 1\n",
      "GPU: Tesla P4\n"
     ]
    }
   ],
   "source": [
    "#print(\"GPU Available: {}\".format(torch.cuda.is_available()))\n",
    "if torch.cuda.is_available() == True:\n",
    "  device = 'cuda'\n",
    "else:\n",
    "  device = 'cpu'\n",
    "n_gpu = torch.cuda.device_count()\n",
    "print(\"Number of GPU Available: {}\".format(n_gpu))\n",
    "print(\"GPU: {}\".format(torch.cuda.get_device_name(0)))"
   ]
  },
  {
   "cell_type": "markdown",
   "metadata": {
    "id": "p__nocctiPC7"
   },
   "source": [
    "# Read data"
   ]
  },
  {
   "cell_type": "code",
   "execution_count": 5,
   "metadata": {
    "id": "ThRqd6M4ee9w"
   },
   "outputs": [],
   "source": [
    "data = pd.read_csv('/content/drive/My Drive/colab_data/tweet_dataset.csv', usecols=['textID', 'text', 'new_sentiment']).iloc[:10000]"
   ]
  },
  {
   "cell_type": "code",
   "execution_count": 6,
   "metadata": {
    "colab": {
     "base_uri": "https://localhost:8080/",
     "height": 221
    },
    "id": "GC1ByOCgfx6U",
    "outputId": "08bd162e-e6db-48e8-9de1-d250f00d827b"
   },
   "outputs": [
    {
     "name": "stdout",
     "output_type": "stream",
     "text": [
      "(10000, 3)\n"
     ]
    },
    {
     "data": {
      "text/html": [
       "<div>\n",
       "<style scoped>\n",
       "    .dataframe tbody tr th:only-of-type {\n",
       "        vertical-align: middle;\n",
       "    }\n",
       "\n",
       "    .dataframe tbody tr th {\n",
       "        vertical-align: top;\n",
       "    }\n",
       "\n",
       "    .dataframe thead th {\n",
       "        text-align: right;\n",
       "    }\n",
       "</style>\n",
       "<table border=\"1\" class=\"dataframe\">\n",
       "  <thead>\n",
       "    <tr style=\"text-align: right;\">\n",
       "      <th></th>\n",
       "      <th>textID</th>\n",
       "      <th>text</th>\n",
       "      <th>new_sentiment</th>\n",
       "    </tr>\n",
       "  </thead>\n",
       "  <tbody>\n",
       "    <tr>\n",
       "      <th>0</th>\n",
       "      <td>1956967341</td>\n",
       "      <td>i know  i was listenin to bad habit earlier a...</td>\n",
       "      <td>NaN</td>\n",
       "    </tr>\n",
       "    <tr>\n",
       "      <th>1</th>\n",
       "      <td>1956967666</td>\n",
       "      <td>Layin n bed with a headache  ughhhh...waitin o...</td>\n",
       "      <td>negative</td>\n",
       "    </tr>\n",
       "    <tr>\n",
       "      <th>2</th>\n",
       "      <td>1956967696</td>\n",
       "      <td>Funeral ceremony...gloomy friday...</td>\n",
       "      <td>negative</td>\n",
       "    </tr>\n",
       "    <tr>\n",
       "      <th>3</th>\n",
       "      <td>1956967789</td>\n",
       "      <td>wants to hang out with friends SOON!</td>\n",
       "      <td>positive</td>\n",
       "    </tr>\n",
       "    <tr>\n",
       "      <th>4</th>\n",
       "      <td>1956968416</td>\n",
       "      <td>We want to trade with someone who has Houston...</td>\n",
       "      <td>neutral</td>\n",
       "    </tr>\n",
       "  </tbody>\n",
       "</table>\n",
       "</div>"
      ],
      "text/plain": [
       "       textID                                               text new_sentiment\n",
       "0  1956967341   i know  i was listenin to bad habit earlier a...           NaN\n",
       "1  1956967666  Layin n bed with a headache  ughhhh...waitin o...      negative\n",
       "2  1956967696                Funeral ceremony...gloomy friday...      negative\n",
       "3  1956967789               wants to hang out with friends SOON!      positive\n",
       "4  1956968416   We want to trade with someone who has Houston...       neutral"
      ]
     },
     "execution_count": 6,
     "metadata": {
      "tags": []
     },
     "output_type": "execute_result"
    }
   ],
   "source": [
    "print(data.shape)\n",
    "data.head()"
   ]
  },
  {
   "cell_type": "code",
   "execution_count": 7,
   "metadata": {
    "colab": {
     "base_uri": "https://localhost:8080/",
     "height": 204
    },
    "id": "FDCYM03ThLgk",
    "outputId": "4c94564d-fca9-40c2-d1d1-29f2d1fe81b6"
   },
   "outputs": [
    {
     "data": {
      "text/html": [
       "<div>\n",
       "<style scoped>\n",
       "    .dataframe tbody tr th:only-of-type {\n",
       "        vertical-align: middle;\n",
       "    }\n",
       "\n",
       "    .dataframe tbody tr th {\n",
       "        vertical-align: top;\n",
       "    }\n",
       "\n",
       "    .dataframe thead th {\n",
       "        text-align: right;\n",
       "    }\n",
       "</style>\n",
       "<table border=\"1\" class=\"dataframe\">\n",
       "  <thead>\n",
       "    <tr style=\"text-align: right;\">\n",
       "      <th></th>\n",
       "      <th>text</th>\n",
       "    </tr>\n",
       "    <tr>\n",
       "      <th>new_sentiment</th>\n",
       "      <th></th>\n",
       "    </tr>\n",
       "  </thead>\n",
       "  <tbody>\n",
       "    <tr>\n",
       "      <th>nan</th>\n",
       "      <td>2156</td>\n",
       "    </tr>\n",
       "    <tr>\n",
       "      <th>negative</th>\n",
       "      <td>3844</td>\n",
       "    </tr>\n",
       "    <tr>\n",
       "      <th>neutral</th>\n",
       "      <td>3090</td>\n",
       "    </tr>\n",
       "    <tr>\n",
       "      <th>positive</th>\n",
       "      <td>910</td>\n",
       "    </tr>\n",
       "  </tbody>\n",
       "</table>\n",
       "</div>"
      ],
      "text/plain": [
       "               text\n",
       "new_sentiment      \n",
       "nan            2156\n",
       "negative       3844\n",
       "neutral        3090\n",
       "positive        910"
      ]
     },
     "execution_count": 7,
     "metadata": {
      "tags": []
     },
     "output_type": "execute_result"
    }
   ],
   "source": [
    "data['text'] = data['text'].str.lower().str.lstrip().str.rstrip()\n",
    "data['new_sentiment'] = data['new_sentiment'].str.lower().str.lstrip().str.rstrip()\n",
    "\n",
    "data_analysis = data.replace(np.nan,'nan')\n",
    "\n",
    "#data['new_sentiment'] = data['new_sentiment'].replace(np.nan,'nan')\n",
    "data_analysis[['text','new_sentiment']].groupby('new_sentiment').count()"
   ]
  },
  {
   "cell_type": "code",
   "execution_count": 8,
   "metadata": {
    "colab": {
     "base_uri": "https://localhost:8080/",
     "height": 306
    },
    "id": "ZMC069t1wtkW",
    "outputId": "d86f0868-a82b-4be2-b1e3-4cd2d981b642"
   },
   "outputs": [
    {
     "name": "stdout",
     "output_type": "stream",
     "text": [
      "(15, 3)\n",
      "(2156, 3)\n",
      "---\n",
      "(0, 3)\n",
      "(0, 3)\n",
      "(7829, 3)\n"
     ]
    },
    {
     "data": {
      "text/html": [
       "<div>\n",
       "<style scoped>\n",
       "    .dataframe tbody tr th:only-of-type {\n",
       "        vertical-align: middle;\n",
       "    }\n",
       "\n",
       "    .dataframe tbody tr th {\n",
       "        vertical-align: top;\n",
       "    }\n",
       "\n",
       "    .dataframe thead th {\n",
       "        text-align: right;\n",
       "    }\n",
       "</style>\n",
       "<table border=\"1\" class=\"dataframe\">\n",
       "  <thead>\n",
       "    <tr style=\"text-align: right;\">\n",
       "      <th></th>\n",
       "      <th>textID</th>\n",
       "      <th>text</th>\n",
       "      <th>new_sentiment</th>\n",
       "    </tr>\n",
       "  </thead>\n",
       "  <tbody>\n",
       "    <tr>\n",
       "      <th>0</th>\n",
       "      <td>1956967666</td>\n",
       "      <td>layin n bed with a headache  ughhhh...waitin o...</td>\n",
       "      <td>negative</td>\n",
       "    </tr>\n",
       "    <tr>\n",
       "      <th>1</th>\n",
       "      <td>1956967696</td>\n",
       "      <td>funeral ceremony...gloomy friday...</td>\n",
       "      <td>negative</td>\n",
       "    </tr>\n",
       "    <tr>\n",
       "      <th>2</th>\n",
       "      <td>1956967789</td>\n",
       "      <td>wants to hang out with friends soon!</td>\n",
       "      <td>positive</td>\n",
       "    </tr>\n",
       "    <tr>\n",
       "      <th>3</th>\n",
       "      <td>1956968416</td>\n",
       "      <td>we want to trade with someone who has houston ...</td>\n",
       "      <td>neutral</td>\n",
       "    </tr>\n",
       "    <tr>\n",
       "      <th>4</th>\n",
       "      <td>1956968477</td>\n",
       "      <td>re-pinging : why didn`t you go to prom? bc my ...</td>\n",
       "      <td>negative</td>\n",
       "    </tr>\n",
       "  </tbody>\n",
       "</table>\n",
       "</div>"
      ],
      "text/plain": [
       "       textID                                               text new_sentiment\n",
       "0  1956967666  layin n bed with a headache  ughhhh...waitin o...      negative\n",
       "1  1956967696                funeral ceremony...gloomy friday...      negative\n",
       "2  1956967789               wants to hang out with friends soon!      positive\n",
       "3  1956968416  we want to trade with someone who has houston ...       neutral\n",
       "4  1956968477  re-pinging : why didn`t you go to prom? bc my ...      negative"
      ]
     },
     "execution_count": 8,
     "metadata": {
      "tags": []
     },
     "output_type": "execute_result"
    }
   ],
   "source": [
    "print(data_analysis[data_analysis['text'] == 'nan'].shape)\n",
    "print(data_analysis[data_analysis['new_sentiment'] == 'nan'].shape)\n",
    "\n",
    "# drop NaN\n",
    "data_dropped = data.dropna(inplace=False).reset_index(drop=True)\n",
    "\n",
    "print('---')\n",
    "print(data_dropped[data_dropped['text'] == 'nan'].shape)\n",
    "print(data_dropped[data_dropped['new_sentiment'] == 'nan'].shape)\n",
    "print(data_dropped.shape)\n",
    "data_dropped.head()"
   ]
  },
  {
   "cell_type": "code",
   "execution_count": 9,
   "metadata": {
    "id": "wUgSRDoCmLO5"
   },
   "outputs": [],
   "source": [
    "label_type = ['positive', 'negative', 'neutral']\n",
    "#label_type = {'positive':0, 'negative':1, 'neutral':2}\n",
    "#data_dropped['new_sentiment'] = [label_type[i] for i in data_dropped['new_sentiment']]"
   ]
  },
  {
   "cell_type": "code",
   "execution_count": 10,
   "metadata": {
    "colab": {
     "base_uri": "https://localhost:8080/",
     "height": 366
    },
    "id": "fPVvtg9WnsS9",
    "outputId": "8ef8e256-dcc5-4f4b-96b8-e3015b6f136f"
   },
   "outputs": [
    {
     "name": "stdout",
     "output_type": "stream",
     "text": [
      "  new_sentiment  count\n",
      "0      negative   3844\n",
      "1       neutral   3075\n",
      "2      positive    910\n",
      "\n"
     ]
    },
    {
     "data": {
      "image/png": "[encoded data removed]",
      "text/plain": [
       "<Figure size 432x288 with 1 Axes>"
      ]
     },
     "metadata": {
      "needs_background": "light",
      "tags": []
     },
     "output_type": "display_data"
    }
   ],
   "source": [
    "# EDA\n",
    "count_df = data_dropped[['text','new_sentiment']].groupby('new_sentiment').count().reset_index().rename(columns={'text':'count'})\n",
    "print(count_df)\n",
    "print()\n",
    "\n",
    "ax= plt.subplot()\n",
    "sns.barplot(x='new_sentiment', y='count', data=count_df); \n",
    "\n",
    "# labels, title and ticks\n",
    "ax.set_xlabel('Label Classes');ax.set_ylabel('Count'); \n",
    "ax.xaxis.set_ticklabels(label_type);"
   ]
  },
  {
   "cell_type": "markdown",
   "metadata": {
    "id": "6PNtizYG4KtC"
   },
   "source": [
    "# Creating labels"
   ]
  },
  {
   "cell_type": "code",
   "execution_count": 11,
   "metadata": {
    "colab": {
     "base_uri": "https://localhost:8080/"
    },
    "id": "FdmWR-_A6E6d",
    "outputId": "a0d50e31-c386-4e09-f108-5081e607b035"
   },
   "outputs": [
    {
     "name": "stdout",
     "output_type": "stream",
     "text": [
      "['negative' 'neutral' 'positive']\n"
     ]
    }
   ],
   "source": [
    "data_dropped['new_sentiment'] = data_dropped['new_sentiment'].apply(lambda x: [x])\n",
    "\n",
    "one_hot = MultiLabelBinarizer()\n",
    "labels = one_hot.fit_transform(data_dropped['new_sentiment'].tolist())\n",
    "labels = pd.DataFrame(labels, columns=one_hot.classes_).reset_index(drop=True)\n",
    "data_dropped_labels = pd.concat([data_dropped, labels],axis=1).reset_index(drop=True)\n",
    "label_type = one_hot.classes_\n",
    "print(label_type)"
   ]
  },
  {
   "cell_type": "code",
   "execution_count": 12,
   "metadata": {
    "colab": {
     "base_uri": "https://localhost:8080/"
    },
    "id": "gmgVb7WZ4aaY",
    "outputId": "2ae461ae-b5f9-41fb-84ea-3e7522de2190"
   },
   "outputs": [
    {
     "data": {
      "text/plain": [
       "((6263, 6), (1566, 6))"
      ]
     },
     "execution_count": 12,
     "metadata": {
      "tags": []
     },
     "output_type": "execute_result"
    }
   ],
   "source": [
    "df_train, df_test = train_test_split(data_dropped_labels,test_size=0.2,random_state=seed)\n",
    "df_train.shape, df_test.shape"
   ]
  },
  {
   "cell_type": "markdown",
   "metadata": {
    "id": "v6z0CxBjx0C6"
   },
   "source": [
    "# Baseline model"
   ]
  },
  {
   "cell_type": "code",
   "execution_count": 13,
   "metadata": {
    "colab": {
     "base_uri": "https://localhost:8080/"
    },
    "id": "T8S_gcnnxzOH",
    "outputId": "dbd3643f-a568-416a-ac82-cf9cd591a42e"
   },
   "outputs": [
    {
     "name": "stdout",
     "output_type": "stream",
     "text": [
      "Train size 6263\n",
      "Test size 1566\n"
     ]
    }
   ],
   "source": [
    "tf_idf = TfidfVectorizer(ngram_range=(1, 3),\n",
    "                         binary=True,\n",
    "                         smooth_idf=False)\n",
    "\n",
    "X_train_tfidf = tf_idf.fit_transform(df_train[\"text\"].values)\n",
    "X_test_tfidf = tf_idf.transform(df_test[\"text\"].values)\n",
    "\n",
    "y_train = df_train[\"new_sentiment\"].apply(lambda x: x[0]).values.tolist()\n",
    "y_test = df_test[\"new_sentiment\"].apply(lambda x: x[0]).values.tolist()\n",
    "\n",
    "print(\"Train size\", len(y_train))\n",
    "print(\"Test size\",len(y_test))"
   ]
  },
  {
   "cell_type": "code",
   "execution_count": 14,
   "metadata": {
    "colab": {
     "base_uri": "https://localhost:8080/"
    },
    "id": "tejjqc7xzyLa",
    "outputId": "eeb2b1ba-07e0-4821-eb34-93888391e195"
   },
   "outputs": [
    {
     "name": "stdout",
     "output_type": "stream",
     "text": [
      "CPU times: user 2min 25s, sys: 163 ms, total: 2min 25s\n",
      "Wall time: 1min 14s\n"
     ]
    }
   ],
   "source": [
    "%%time\n",
    "pipeline = Pipeline([\n",
    "                ('clf', OneVsRestClassifier(XGBClassifier(n_jobs=-1, max_depth=7)))\n",
    "            ])\n",
    "\n",
    "pipeline.fit(X_train_tfidf, y_train)"
   ]
  },
  {
   "cell_type": "code",
   "execution_count": 15,
   "metadata": {
    "colab": {
     "base_uri": "https://localhost:8080/"
    },
    "id": "gsZ21P4beqmj",
    "outputId": "fcdc1465-b01b-437f-b42d-c4e923c30dd5"
   },
   "outputs": [
    {
     "name": "stdout",
     "output_type": "stream",
     "text": [
      "Accuracy 0.5887611749680716\n",
      "Precision 0.5717260793694993\n",
      "Recall 0.5033189937609716\n",
      "F1 Score 0.513210633116269\n"
     ]
    }
   ],
   "source": [
    "# evaluate model\n",
    "model_pred_probs_X_test = pipeline.predict_proba(X_test_tfidf)\n",
    "model_preds_X_test = pipeline.predict(X_test_tfidf)\n",
    "\n",
    "#print(len(model_pred_probs_X_test))\n",
    "#print(len(model_preds_X_test))\n",
    "\n",
    "print(\"Accuracy\", accuracy_score(y_test,model_preds_X_test))\n",
    "print(\"Precision\", precision_score(y_test,model_preds_X_test,average=\"macro\"))\n",
    "print(\"Recall\", recall_score(y_test,model_preds_X_test,average=\"macro\"))\n",
    "print(\"F1 Score\", f1_score(y_test,model_preds_X_test,average=\"macro\"))"
   ]
  },
  {
   "cell_type": "markdown",
   "metadata": {
    "id": "7Gs8H3M3bm3d"
   },
   "source": [
    "# Preparing data for BERT"
   ]
  },
  {
   "cell_type": "markdown",
   "metadata": {
    "id": "CZLvGHoUbuLx"
   },
   "source": [
    "- Find out max_len value to set"
   ]
  },
  {
   "cell_type": "code",
   "execution_count": 16,
   "metadata": {
    "colab": {
     "base_uri": "https://localhost:8080/",
     "height": 83,
     "referenced_widgets": [
      "5f0cf57722db4015a8071b199bafce72",
      "7263def7dfc84bc193bc8bc96a3d7501",
      "3974e28d60844f51851ea26a77b729fb",
      "619c192a71934b0f861b20030e65d2e4",
      "7db6385b88fd4a20a8c98adce62c8a1e",
      "8f7bc2471fa642e2a4d92eb50504dac6",
      "5d6d8ad63c01425897ed3f854c867f52",
      "584a24ebbff943549626c2128c07e2a5"
     ]
    },
    "id": "1OYUeETZnpRQ",
    "outputId": "53b61534-10a0-4c96-8587-7708b38a08f3"
   },
   "outputs": [
    {
     "data": {
      "application/vnd.jupyter.widget-view+json": {
       "model_id": "5f0cf57722db4015a8071b199bafce72",
       "version_major": 2,
       "version_minor": 0
      },
      "text/plain": [
       "HBox(children=(FloatProgress(value=0.0, description='Downloading', max=231508.0, style=ProgressStyle(descripti…"
      ]
     },
     "metadata": {
      "tags": []
     },
     "output_type": "display_data"
    },
    {
     "name": "stdout",
     "output_type": "stream",
     "text": [
      "\n",
      "Max sentence length:  95\n"
     ]
    }
   ],
   "source": [
    "max_len = 0\n",
    "tokenizer = BertTokenizer.from_pretrained('bert-base-uncased')\n",
    "\n",
    "for sent in data_dropped['text'].tolist():\n",
    "    input_ids = tokenizer.encode(sent, add_special_tokens=True)\n",
    "    max_len = max(max_len, len(input_ids))\n",
    "\n",
    "print('Max sentence length: ', max_len)"
   ]
  },
  {
   "cell_type": "code",
   "execution_count": 17,
   "metadata": {
    "id": "HWRIc8BfhK6i"
   },
   "outputs": [],
   "source": [
    "def bert_preprocess(text_list, seq_len):    \n",
    "    input_ids = []\n",
    "    attention_masks = []\n",
    "\n",
    "    for sent in text_list:\n",
    "        encoded_sent = tokenizer.encode_plus(\n",
    "            sent, \n",
    "            add_special_tokens=True,        \n",
    "            max_length=MAX_LEN,             \n",
    "            pad_to_max_length=True,\n",
    "            return_attention_mask=True\n",
    "            #return_tensors='pt')\n",
    "        \n",
    "        input_ids.append(encoded_sent.get('input_ids'))\n",
    "        attention_masks.append(encoded_sent.get('attention_mask'))\n",
    "    return input_ids, attention_masks"
   ]
  },
  {
   "cell_type": "code",
   "execution_count": 18,
   "metadata": {
    "colab": {
     "base_uri": "https://localhost:8080/"
    },
    "id": "WVART_Ai4NFJ",
    "outputId": "829655aa-55d9-4e23-c923-93f95dca35f2"
   },
   "outputs": [
    {
     "name": "stderr",
     "output_type": "stream",
     "text": [
      "Truncation was not explicitly activated but `max_length` is provided a specific value, please use `truncation=True` to explicitly truncate examples to max length. Defaulting to 'longest_first' truncation strategy. If you encode pairs of sequences (GLUE-style) with the tokenizer you can select this strategy more precisely by providing a specific strategy to `truncation`.\n",
      "/usr/local/lib/python3.6/dist-packages/transformers/tokenization_utils_base.py:2155: FutureWarning: The `pad_to_max_length` argument is deprecated and will be removed in a future version, use `padding=True` or `padding='longest'` to pad to the longest sequence in the batch, or use `padding='max_length'` to pad to a max length. In this case, you can give a specific length with `max_length` (e.g. `max_length=45`) or leave max_length to None to pad to the maximal input size of the model (e.g. 512 for Bert).\n",
      "  FutureWarning,\n",
      "/usr/local/lib/python3.6/dist-packages/ipykernel_launcher.py:12: SettingWithCopyWarning: \n",
      "A value is trying to be set on a copy of a slice from a DataFrame.\n",
      "Try using .loc[row_indexer,col_indexer] = value instead\n",
      "\n",
      "See the caveats in the documentation: https://pandas.pydata.org/pandas-docs/stable/user_guide/indexing.html#returning-a-view-versus-a-copy\n",
      "  if sys.path[0] == '':\n",
      "/usr/local/lib/python3.6/dist-packages/ipykernel_launcher.py:13: SettingWithCopyWarning: \n",
      "A value is trying to be set on a copy of a slice from a DataFrame.\n",
      "Try using .loc[row_indexer,col_indexer] = value instead\n",
      "\n",
      "See the caveats in the documentation: https://pandas.pydata.org/pandas-docs/stable/user_guide/indexing.html#returning-a-view-versus-a-copy\n",
      "  del sys.path[0]\n",
      "/usr/local/lib/python3.6/dist-packages/ipykernel_launcher.py:14: SettingWithCopyWarning: \n",
      "A value is trying to be set on a copy of a slice from a DataFrame.\n",
      "Try using .loc[row_indexer,col_indexer] = value instead\n",
      "\n",
      "See the caveats in the documentation: https://pandas.pydata.org/pandas-docs/stable/user_guide/indexing.html#returning-a-view-versus-a-copy\n",
      "  \n",
      "/usr/local/lib/python3.6/dist-packages/ipykernel_launcher.py:15: SettingWithCopyWarning: \n",
      "A value is trying to be set on a copy of a slice from a DataFrame.\n",
      "Try using .loc[row_indexer,col_indexer] = value instead\n",
      "\n",
      "See the caveats in the documentation: https://pandas.pydata.org/pandas-docs/stable/user_guide/indexing.html#returning-a-view-versus-a-copy\n",
      "  from ipykernel import kernelapp as app\n"
     ]
    }
   ],
   "source": [
    "MAX_LEN = 95\n",
    "batch_size = 32\n",
    "\n",
    "train_text_list = df_train[\"text\"].values\n",
    "test_text_list = df_test[\"text\"].values\n",
    "\n",
    "# convert text to id, attention mask, pad\n",
    "train_input_ids, train_attention_masks = bert_preprocess(train_text_list, seq_len=MAX_LEN)\n",
    "test_input_ids, test_attention_masks = bert_preprocess(test_text_list, seq_len=MAX_LEN)\n",
    "\n",
    "# add input ids and attention masks to the dataframe\n",
    "df_train[\"features\"] = train_input_ids\n",
    "df_train[\"masks\"] = train_attention_masks\n",
    "df_test[\"features\"] = test_input_ids\n",
    "df_test[\"masks\"] = test_attention_masks\n",
    "\n",
    "# train valid split\n",
    "df_train, df_valid = train_test_split(df_train, test_size=0.2, random_state=42)\n",
    "\n",
    "X_train = df_train[\"features\"].values.tolist()\n",
    "X_valid = df_valid[\"features\"].values.tolist()\n",
    "\n",
    "train_masks = df_train[\"masks\"].values.tolist()\n",
    "valid_masks = df_valid[\"masks\"].values.tolist()\n",
    "\n",
    "Y_train = df_train[label_type].values.tolist()\n",
    "Y_valid = df_valid[label_type].values.tolist()\n",
    "\n",
    "X_train = torch.tensor(X_train)\n",
    "X_valid = torch.tensor(X_valid)\n",
    "\n",
    "Y_train = torch.tensor(Y_train, dtype=torch.float32)\n",
    "Y_valid = torch.tensor(Y_valid, dtype=torch.float32)\n",
    "\n",
    "train_masks = torch.tensor(train_masks, dtype=torch.long)\n",
    "valid_masks = torch.tensor(valid_masks, dtype=torch.long)\n",
    "\n",
    "train_data = TensorDataset(X_train, train_masks, Y_train)\n",
    "train_sampler = RandomSampler(train_data)\n",
    "train_dataloader = DataLoader(train_data,\n",
    "                                sampler=train_sampler,\n",
    "                                batch_size=batch_size)\n",
    "\n",
    "validation_data = TensorDataset(X_valid, valid_masks, Y_valid)\n",
    "validation_sampler = SequentialSampler(validation_data)\n",
    "validation_dataloader = DataLoader(validation_data,\n",
    "                                    sampler=validation_sampler,\n",
    "                                    batch_size=batch_size)\n",
    "\n",
    "num_labels = len(Y_train[0])"
   ]
  },
  {
   "cell_type": "code",
   "execution_count": 19,
   "metadata": {
    "id": "dHXpfaij4PLr"
   },
   "outputs": [],
   "source": [
    "def save_model(model, save_path, epochs, lowest_eval_loss, train_loss_hist, valid_loss_hist):\n",
    "    model_to_save = model.module if hasattr(model, 'module') else model  # Only save the model it-self\n",
    "    checkpoint = {'epochs': epochs, \\\n",
    "                'lowest_eval_loss': lowest_eval_loss,\\\n",
    "                'state_dict': model_to_save.state_dict(),\\\n",
    "                'train_loss_hist': train_loss_hist,\\\n",
    "                'valid_loss_hist': valid_loss_hist\n",
    "                }\n",
    "    torch.save(checkpoint, save_path)\n",
    "    return"
   ]
  },
  {
   "cell_type": "code",
   "execution_count": 20,
   "metadata": {
    "id": "JrqmJvzI4POm"
   },
   "outputs": [],
   "source": [
    "class BertForSentiment(torch.nn.Module):\n",
    "    def __init__(self, num_labels=3):\n",
    "        super(BertForSentiment, self).__init__()\n",
    "        self.num_labels = num_labels\n",
    "        self.bert = BertModel.from_pretrained('bert-base-uncased')\n",
    "        self.drop = nn.Dropout(p=0.3)\n",
    "        self.classifier = torch.nn.Linear(self.bert.config.hidden_size, num_labels)\n",
    "\n",
    "        torch.nn.init.xavier_normal_(self.classifier.weight)\n",
    "\n",
    "    def forward(self, input_ids, attention_mask=None, labels=None):\n",
    "        last_hidden_state, pooled_output = self.bert(input_ids=input_ids, attention_mask=attention_mask,return_dict=False)\n",
    "        mean_last_hidden_state = self.pool_hidden_state(last_hidden_state) # pool the output into a mean vector\n",
    "        pooled_output = self.drop(pooled_output)\n",
    "        logits = self.classifier(pooled_output)\n",
    "\n",
    "        if labels is not None:\n",
    "            loss_fct = BCEWithLogitsLoss()\n",
    "            loss = loss_fct(logits.view(-1, self.num_labels), labels.view(-1, self.num_labels))\n",
    "            return loss\n",
    "        else:\n",
    "            return logits\n",
    "\n",
    "    def freeze_bert_encoder(self):\n",
    "        for param in self.bert.parameters():\n",
    "            param.requires_grad = False\n",
    "\n",
    "    def unfreeze_bert_encoder(self):\n",
    "        for param in self.bert.parameters():\n",
    "            param.requires_grad = True\n",
    "\n",
    "    def pool_hidden_state(self, last_hidden_state):\n",
    "        mean_last_hidden_state = torch.mean(last_hidden_state, 1)\n",
    "        return mean_last_hidden_state"
   ]
  },
  {
   "cell_type": "code",
   "execution_count": 21,
   "metadata": {
    "colab": {
     "base_uri": "https://localhost:8080/",
     "height": 115,
     "referenced_widgets": [
      "35a0331114a5470aa7f11a12b082c0fd",
      "0a35d792cc1c479483aad9a2da0665e2",
      "ca4e32d736ee4ce8b980018df2eca6d7",
      "9f854778bb4749cf88d5958a5cb556dc",
      "2a6a3e8573684d4fb38db1b54e6bb136",
      "d04f5847144e4590b77732c3f65094cc",
      "cde96077e2534fad842f21844fbf2560",
      "d4000e2769024b89a49f3bfe47f7f981",
      "e1c0e89ebc0c4c129f529717c47f21f0",
      "57eb694ac2ac441995432c61057e0fc2",
      "e72ef8d0fd57477da2fbbad17ceb7424",
      "7a25e06af56542d8a6eddbac52a364f1",
      "4cc3b758f5da4d91a11eb50b2423a911",
      "aafe1b808f12406eb941655c3ed34126",
      "fedcacc8fec64bdeabf5f7b75fee4e53",
      "00464d528f264340a810073f38b9513f"
     ]
    },
    "id": "o5aE9vLxC8r3",
    "outputId": "7d5d4862-c76d-4ba1-e3e5-f14aad632dc1"
   },
   "outputs": [
    {
     "data": {
      "application/vnd.jupyter.widget-view+json": {
       "model_id": "35a0331114a5470aa7f11a12b082c0fd",
       "version_major": 2,
       "version_minor": 0
      },
      "text/plain": [
       "HBox(children=(FloatProgress(value=0.0, description='Downloading', max=433.0, style=ProgressStyle(description_…"
      ]
     },
     "metadata": {
      "tags": []
     },
     "output_type": "display_data"
    },
    {
     "name": "stdout",
     "output_type": "stream",
     "text": [
      "\n"
     ]
    },
    {
     "data": {
      "application/vnd.jupyter.widget-view+json": {
       "model_id": "e1c0e89ebc0c4c129f529717c47f21f0",
       "version_major": 2,
       "version_minor": 0
      },
      "text/plain": [
       "HBox(children=(FloatProgress(value=0.0, description='Downloading', max=440473133.0, style=ProgressStyle(descri…"
      ]
     },
     "metadata": {
      "tags": []
     },
     "output_type": "display_data"
    },
    {
     "name": "stdout",
     "output_type": "stream",
     "text": [
      "\n"
     ]
    }
   ],
   "source": [
    "model = BertForSentiment(num_labels=num_labels)\n",
    "model = model.to(device)\n",
    "\n",
    "num_epochs = 4\n",
    "optimizer = AdamW(model.parameters(), lr=2e-5, weight_decay=0.01, correct_bias=False)\n",
    "\n",
    "train_loss_set = valid_loss_set = []\n",
    "num_train_loss_set = num_valid_loss_set = []\n",
    "\n",
    "lowest_eval_loss=None\n",
    "start_epoch=0\n",
    "loss_fn = nn.CrossEntropyLoss().to(device)\n",
    "model_save_path = '/content/drive/My Drive/colab_data/bert_sent.model'"
   ]
  },
  {
   "cell_type": "code",
   "execution_count": 22,
   "metadata": {
    "colab": {
     "base_uri": "https://localhost:8080/"
    },
    "id": "dHSaaiVg4PRg",
    "outputId": "f9dca75f-6b2b-4b58-ae50-aecda3cc0eaa"
   },
   "outputs": [
    {
     "name": "stderr",
     "output_type": "stream",
     "text": [
      "\r",
      "Epoch:   0%|          | 0/4 [00:00<?, ?it/s]"
     ]
    },
    {
     "name": "stdout",
     "output_type": "stream",
     "text": [
      "\n",
      "Train loss: 0.015747262159745375\n",
      "Valid loss: 0.012839654970435457\n"
     ]
    },
    {
     "name": "stderr",
     "output_type": "stream",
     "text": [
      "\r",
      "Epoch:  25%|██▌       | 1/4 [01:42<05:07, 102.53s/it]"
     ]
    },
    {
     "name": "stdout",
     "output_type": "stream",
     "text": [
      "\n",
      "Train loss: 0.010602401301056563\n",
      "Valid loss: 0.01159637122276014\n"
     ]
    },
    {
     "name": "stderr",
     "output_type": "stream",
     "text": [
      "\r",
      "Epoch:  50%|█████     | 2/4 [03:24<03:25, 102.50s/it]"
     ]
    },
    {
     "name": "stdout",
     "output_type": "stream",
     "text": [
      "\n",
      "\n",
      "\n",
      "Train loss: 0.006519502080129292\n"
     ]
    },
    {
     "name": "stderr",
     "output_type": "stream",
     "text": [
      "\r",
      "Epoch:  75%|███████▌  | 3/4 [05:07<01:42, 102.48s/it]"
     ]
    },
    {
     "name": "stdout",
     "output_type": "stream",
     "text": [
      "Valid loss: 0.013614966763749849\n",
      "\n",
      "\n",
      "\n",
      "Train loss: 0.0039555805097677985\n"
     ]
    },
    {
     "name": "stderr",
     "output_type": "stream",
     "text": [
      "Epoch: 100%|██████████| 4/4 [06:49<00:00, 102.48s/it]"
     ]
    },
    {
     "name": "stdout",
     "output_type": "stream",
     "text": [
      "Valid loss: 0.016496465722037997\n",
      "\n",
      "\n"
     ]
    },
    {
     "name": "stderr",
     "output_type": "stream",
     "text": [
      "\n"
     ]
    }
   ],
   "source": [
    "for i in trange(num_epochs, desc=\"Epoch\"):\n",
    "\n",
    "    actual_epoch = start_epoch + i\n",
    "\n",
    "    # Training\n",
    "    model.train()\n",
    "\n",
    "    tr_loss = 0\n",
    "    num_train_samples = 0\n",
    "\n",
    "    # Train the data for one epoch\n",
    "    for _, batch in enumerate(train_dataloader):\n",
    "        \n",
    "        batch = tuple(t.to(device) for t in batch)\n",
    "\n",
    "        b_input_ids, b_input_mask, b_labels = batch\n",
    "\n",
    "        # Clear out the gradients (by default they accumulate)\n",
    "        optimizer.zero_grad()\n",
    "        # Forward pass\n",
    "        loss = model(b_input_ids, attention_mask=b_input_mask, labels=b_labels)\n",
    "        if n_gpu > 1:\n",
    "            loss = loss.mean()\n",
    "        \n",
    "        tr_loss += loss.item()\n",
    "        num_train_samples += b_labels.size(0)\n",
    "        \n",
    "        loss.backward()\n",
    "        # Update parameters and take a step using the computed gradient\n",
    "        optimizer.step()\n",
    "        #scheduler.step()\n",
    "\n",
    "    # Update tracking variables\n",
    "    epoch_train_loss = tr_loss/num_train_samples\n",
    "    train_loss_set.append(epoch_train_loss)\n",
    "    num_train_loss_set.append(num_train_samples)\n",
    "\n",
    "    print(\"\\nTrain loss: {}\".format(epoch_train_loss))\n",
    "\n",
    "    # Validation\n",
    "    model.eval()\n",
    "\n",
    "    eval_loss = 0\n",
    "    num_eval_samples = 0\n",
    "\n",
    "    for batch in validation_dataloader:\n",
    "\n",
    "        batch = tuple(t.to(device) for t in batch)\n",
    "\n",
    "        b_input_ids, b_input_mask, b_labels = batch\n",
    "        # Telling the model not to compute or store gradients, saving memory and speeding up validation\n",
    "        with torch.no_grad():\n",
    "            # Forward pass, calculate validation loss\n",
    "            loss = model(b_input_ids, attention_mask=b_input_mask, labels=b_labels)\n",
    "            if n_gpu > 1:\n",
    "                loss = loss.mean()\n",
    "     \n",
    "            eval_loss += loss.item()\n",
    "            num_eval_samples += b_labels.size(0)\n",
    "\n",
    "    epoch_eval_loss = eval_loss/num_eval_samples\n",
    "    valid_loss_set.append(epoch_eval_loss)\n",
    "    \n",
    "    print(\"Valid loss: {}\".format(epoch_eval_loss))\n",
    "\n",
    "    if lowest_eval_loss == None:\n",
    "        lowest_eval_loss = epoch_eval_loss\n",
    "        save_model(model, model_save_path, actual_epoch, lowest_eval_loss, train_loss_set, valid_loss_set)\n",
    "    else:\n",
    "        if epoch_eval_loss < lowest_eval_loss:\n",
    "            lowest_eval_loss = epoch_eval_loss\n",
    "            save_model(model, model_save_path, actual_epoch, lowest_eval_loss, train_loss_set, valid_loss_set)\n",
    "    print(\"\\n\")"
   ]
  },
  {
   "cell_type": "code",
   "execution_count": 23,
   "metadata": {
    "colab": {
     "base_uri": "https://localhost:8080/"
    },
    "id": "NOD1veHaViwf",
    "outputId": "549d3d36-a084-42ed-daac-45061ce2aa69"
   },
   "outputs": [
    {
     "name": "stdout",
     "output_type": "stream",
     "text": [
      "Train loss: [0.015747262159745375, 0.010602401301056563, 0.006519502080129292, 0.0039555805097677985]\n",
      "Valid loss: [0.012839654970435457, 0.01159637122276014, 0.013614966763749849, 0.016496465722037997]\n"
     ]
    }
   ],
   "source": [
    "training_loss_list = []\n",
    "valid_loss_list = []\n",
    "\n",
    "for i in range(len(train_loss_set)):\n",
    "    if i%2 ==0:\n",
    "        training_loss_list.append(train_loss_set[i])\n",
    "    else:\n",
    "        valid_loss_list.append(train_loss_set[i])\n",
    "print(\"Train loss:\", training_loss_list)\n",
    "print(\"Valid loss:\", valid_loss_list)"
   ]
  },
  {
   "cell_type": "code",
   "execution_count": 33,
   "metadata": {
    "colab": {
     "base_uri": "https://localhost:8080/",
     "height": 441
    },
    "id": "U9O_4DAJwYgv",
    "outputId": "ce532e6b-9792-4c5d-80ec-fd5ea10a1d31"
   },
   "outputs": [
    {
     "data": {
      "image/png": "[encoded data removed]",
      "text/plain": [
       "<Figure size 504x432 with 1 Axes>"
      ]
     },
     "metadata": {
      "needs_background": "light",
      "tags": []
     },
     "output_type": "display_data"
    }
   ],
   "source": [
    "# visualize the loss as the network trained\n",
    "fig = plt.figure(figsize=(7,6))\n",
    "plt.plot(range(1,len(training_loss_list)+1),training_loss_list, label='Training Loss')\n",
    "plt.plot(range(1,len(valid_loss_list)+1),valid_loss_list,label='Validation Loss')\n",
    "\n",
    "# find position of lowest validation loss\n",
    "minposs = valid_loss_list.index(min(valid_loss_list))+1 \n",
    "plt.axvline(minposs, linestyle='--', color='r',label='Early Stopping Checkpoint')\n",
    "\n",
    "plt.xlabel('epochs')\n",
    "plt.ylabel('loss')\n",
    "plt.ylim(0, 0.02) # consistent scale\n",
    "plt.xlim(0, len(training_loss_list)+1) # consistent scale\n",
    "plt.grid(True)\n",
    "plt.legend()\n",
    "plt.tight_layout()\n",
    "plt.show()\n",
    "fig.savefig('loss_plot.png', bbox_inches='tight')"
   ]
  },
  {
   "cell_type": "markdown",
   "metadata": {
    "id": "m2TkrjK9Dd3m"
   },
   "source": [
    "# Predict"
   ]
  },
  {
   "cell_type": "code",
   "execution_count": 34,
   "metadata": {
    "id": "_sZp07m-C6Nv"
   },
   "outputs": [],
   "source": [
    "def bert_predict_proba(model, df, num_labels, device=\"cpu\", batch_size=32):\n",
    "    num_iter = math.ceil(df.shape[0]/batch_size)\n",
    "    pred_probs = np.array([]).reshape(0, num_labels)\n",
    "\n",
    "    model.to(device)\n",
    "    model.eval()\n",
    "\n",
    "    for i in range(num_iter):\n",
    "        df_subset = df.iloc[i*batch_size:(i+1)*batch_size,:]\n",
    "        X = df_subset[\"features\"].values.tolist()\n",
    "        masks = df_subset[\"masks\"].values.tolist()\n",
    "        X = torch.tensor(X)\n",
    "        masks = torch.tensor(masks, dtype=torch.long)\n",
    "        X = X.to(device)\n",
    "        masks = masks.to(device)\n",
    "        with torch.no_grad():\n",
    "            logits = model(input_ids=X, attention_mask=masks)\n",
    "            logits = logits.sigmoid().detach().cpu().numpy()\n",
    "            pred_probs = np.vstack([pred_probs, logits])\n",
    "\n",
    "    return pred_probs"
   ]
  },
  {
   "cell_type": "code",
   "execution_count": 35,
   "metadata": {
    "colab": {
     "base_uri": "https://localhost:8080/"
    },
    "id": "yF4Sx0eCGHep",
    "outputId": "5a578e84-f9d8-4b20-b3c0-f3be10b2a58a"
   },
   "outputs": [
    {
     "name": "stdout",
     "output_type": "stream",
     "text": [
      "(1566, 8)\n",
      "1566\n"
     ]
    }
   ],
   "source": [
    "pred_probs = bert_predict_proba(model=model,\n",
    "                                df=df_test,\n",
    "                                num_labels=3,\n",
    "                                device=device,\n",
    "                                batch_size=32)\n",
    "\n",
    "print(df_test.shape)\n",
    "print(len(pred_probs))"
   ]
  },
  {
   "cell_type": "code",
   "execution_count": 36,
   "metadata": {
    "id": "JrZhhK3hKQWZ"
   },
   "outputs": [],
   "source": [
    "def predict_one(list_of_prob,label_type):\n",
    "    model_pred_probs_argmax = np.argmax(list_of_prob, axis=0)\n",
    "    top_class = label_type[model_pred_probs_argmax]\n",
    "    return top_class\n",
    "\n",
    "pred_sent_col = pd.Series(list(map(lambda x: predict_one(x,label_type),pred_probs)))\n",
    "df_test_ = pd.concat([df_test.reset_index(drop=True),pred_sent_col], axis=1).rename(columns={0:'pred_sent'})"
   ]
  },
  {
   "cell_type": "code",
   "execution_count": 37,
   "metadata": {
    "colab": {
     "base_uri": "https://localhost:8080/"
    },
    "id": "gRvKeTQPhOdZ",
    "outputId": "a7e82195-577d-4d0a-f0ca-57c13b8c6704"
   },
   "outputs": [
    {
     "name": "stdout",
     "output_type": "stream",
     "text": [
      "Accuracy: 0.7369093231162197\n",
      "Precision: 0.703805825625834\n",
      "Recall: 0.7012024162536242\n",
      "F1 Score: 0.7020096605385163\n"
     ]
    }
   ],
   "source": [
    "ground_truth_list = df_test['new_sentiment'].apply(lambda x: x[0]).tolist()\n",
    "print(\"Accuracy: {}\".format(accuracy_score(ground_truth_list, pred_sent_col.tolist())))\n",
    "print(\"Precision: {}\".format(precision_score(ground_truth_list, pred_sent_col.tolist(), average='macro')))\n",
    "print(\"Recall: {}\".format(recall_score(ground_truth_list, pred_sent_col.tolist(), average='macro')))\n",
    "print(\"F1 Score: {}\".format(f1_score(ground_truth_list, pred_sent_col.tolist(), average='macro')))\n",
    "cm = confusion_matrix(ground_truth_list, pred_sent_col.tolist(),labels=label_type)"
   ]
  },
  {
   "cell_type": "code",
   "execution_count": 38,
   "metadata": {
    "colab": {
     "base_uri": "https://localhost:8080/",
     "height": 295
    },
    "id": "85DEwpkPlKMY",
    "outputId": "3c17a98b-831b-49bf-f83d-40958824f4f5"
   },
   "outputs": [
    {
     "data": {
      "image/png": "[encoded data removed]",
      "text/plain": [
       "<Figure size 432x288 with 2 Axes>"
      ]
     },
     "metadata": {
      "needs_background": "light",
      "tags": []
     },
     "output_type": "display_data"
    }
   ],
   "source": [
    "ax= plt.subplot()\n",
    "sns.heatmap(cm, annot=True, ax = ax, fmt='g', cmap='Greens'); \n",
    "\n",
    "# labels, title and ticks\n",
    "ax.set_xlabel('Predicted labels');ax.set_ylabel('True labels'); \n",
    "ax.set_title('Confusion Matrix'); \n",
    "ax.xaxis.set_ticklabels(label_type); ax.yaxis.set_ticklabels(label_type);\n"
   ]
  },
  {
   "cell_type": "code",
   "execution_count": null,
   "metadata": {
    "id": "0smw2MAIVtH4"
   },
   "outputs": [],
   "source": []
  }
 ],
 "metadata": {
  "accelerator": "GPU",
  "colab": {
   "collapsed_sections": [],
   "name": "sentiment_bert.ipynb",
   "provenance": []
  },
  "kernelspec": {
   "display_name": "Python 3",
   "language": "python",
   "name": "python3"
  },
  "language_info": {
   "codemirror_mode": {
    "name": "ipython",
    "version": 3
   },
   "file_extension": ".py",
   "mimetype": "text/x-python",
   "name": "python",
   "nbconvert_exporter": "python",
   "pygments_lexer": "ipython3",
   "version": "3.6.7"
  },
  "latex_envs": {
   "LaTeX_envs_menu_present": true,
   "autoclose": false,
   "autocomplete": true,
   "bibliofile": "biblio.bib",
   "cite_by": "apalike",
   "current_citInitial": 1,
   "eqLabelWithNumbers": true,
   "eqNumInitial": 1,
   "hotkeys": {
    "equation": "Ctrl-E",
    "itemize": "Ctrl-I"
   },
   "labels_anchors": false,
   "latex_user_defs": false,
   "report_style_numbering": false,
   "user_envs_cfg": false
  },
  "toc": {
   "base_numbering": 1,
   "nav_menu": {},
   "number_sections": true,
   "sideBar": true,
   "skip_h1_title": false,
   "title_cell": "Table of Contents",
   "title_sidebar": "Contents",
   "toc_cell": false,
   "toc_position": {},
   "toc_section_display": true,
   "toc_window_display": false
  },
  "widgets": {
   "application/vnd.jupyter.widget-state+json": {
    "00464d528f264340a810073f38b9513f": {
     "model_module": "@jupyter-widgets/base",
     "model_name": "LayoutModel",
     "state": {
      "_model_module": "@jupyter-widgets/base",
      "_model_module_version": "1.2.0",
      "_model_name": "LayoutModel",
      "_view_count": null,
      "_view_module": "@jupyter-widgets/base",
      "_view_module_version": "1.2.0",
      "_view_name": "LayoutView",
      "align_content": null,
      "align_items": null,
      "align_self": null,
      "border": null,
      "bottom": null,
      "display": null,
      "flex": null,
      "flex_flow": null,
      "grid_area": null,
      "grid_auto_columns": null,
      "grid_auto_flow": null,
      "grid_auto_rows": null,
      "grid_column": null,
      "grid_gap": null,
      "grid_row": null,
      "grid_template_areas": null,
      "grid_template_columns": null,
      "grid_template_rows": null,
      "height": null,
      "justify_content": null,
      "justify_items": null,
      "left": null,
      "margin": null,
      "max_height": null,
      "max_width": null,
      "min_height": null,
      "min_width": null,
      "object_fit": null,
      "object_position": null,
      "order": null,
      "overflow": null,
      "overflow_x": null,
      "overflow_y": null,
      "padding": null,
      "right": null,
      "top": null,
      "visibility": null,
      "width": null
     }
    },
    "0a35d792cc1c479483aad9a2da0665e2": {
     "model_module": "@jupyter-widgets/base",
     "model_name": "LayoutModel",
     "state": {
      "_model_module": "@jupyter-widgets/base",
      "_model_module_version": "1.2.0",
      "_model_name": "LayoutModel",
      "_view_count": null,
      "_view_module": "@jupyter-widgets/base",
      "_view_module_version": "1.2.0",
      "_view_name": "LayoutView",
      "align_content": null,
      "align_items": null,
      "align_self": null,
      "border": null,
      "bottom": null,
      "display": null,
      "flex": null,
      "flex_flow": null,
      "grid_area": null,
      "grid_auto_columns": null,
      "grid_auto_flow": null,
      "grid_auto_rows": null,
      "grid_column": null,
      "grid_gap": null,
      "grid_row": null,
      "grid_template_areas": null,
      "grid_template_columns": null,
      "grid_template_rows": null,
      "height": null,
      "justify_content": null,
      "justify_items": null,
      "left": null,
      "margin": null,
      "max_height": null,
      "max_width": null,
      "min_height": null,
      "min_width": null,
      "object_fit": null,
      "object_position": null,
      "order": null,
      "overflow": null,
      "overflow_x": null,
      "overflow_y": null,
      "padding": null,
      "right": null,
      "top": null,
      "visibility": null,
      "width": null
     }
    },
    "2a6a3e8573684d4fb38db1b54e6bb136": {
     "model_module": "@jupyter-widgets/controls",
     "model_name": "ProgressStyleModel",
     "state": {
      "_model_module": "@jupyter-widgets/controls",
      "_model_module_version": "1.5.0",
      "_model_name": "ProgressStyleModel",
      "_view_count": null,
      "_view_module": "@jupyter-widgets/base",
      "_view_module_version": "1.2.0",
      "_view_name": "StyleView",
      "bar_color": null,
      "description_width": "initial"
     }
    },
    "35a0331114a5470aa7f11a12b082c0fd": {
     "model_module": "@jupyter-widgets/controls",
     "model_name": "HBoxModel",
     "state": {
      "_dom_classes": [],
      "_model_module": "@jupyter-widgets/controls",
      "_model_module_version": "1.5.0",
      "_model_name": "HBoxModel",
      "_view_count": null,
      "_view_module": "@jupyter-widgets/controls",
      "_view_module_version": "1.5.0",
      "_view_name": "HBoxView",
      "box_style": "",
      "children": [
       "IPY_MODEL_ca4e32d736ee4ce8b980018df2eca6d7",
       "IPY_MODEL_9f854778bb4749cf88d5958a5cb556dc"
      ],
      "layout": "IPY_MODEL_0a35d792cc1c479483aad9a2da0665e2"
     }
    },
    "3974e28d60844f51851ea26a77b729fb": {
     "model_module": "@jupyter-widgets/controls",
     "model_name": "FloatProgressModel",
     "state": {
      "_dom_classes": [],
      "_model_module": "@jupyter-widgets/controls",
      "_model_module_version": "1.5.0",
      "_model_name": "FloatProgressModel",
      "_view_count": null,
      "_view_module": "@jupyter-widgets/controls",
      "_view_module_version": "1.5.0",
      "_view_name": "ProgressView",
      "bar_style": "success",
      "description": "Downloading: 100%",
      "description_tooltip": null,
      "layout": "IPY_MODEL_8f7bc2471fa642e2a4d92eb50504dac6",
      "max": 231508,
      "min": 0,
      "orientation": "horizontal",
      "style": "IPY_MODEL_7db6385b88fd4a20a8c98adce62c8a1e",
      "value": 231508
     }
    },
    "4cc3b758f5da4d91a11eb50b2423a911": {
     "model_module": "@jupyter-widgets/controls",
     "model_name": "ProgressStyleModel",
     "state": {
      "_model_module": "@jupyter-widgets/controls",
      "_model_module_version": "1.5.0",
      "_model_name": "ProgressStyleModel",
      "_view_count": null,
      "_view_module": "@jupyter-widgets/base",
      "_view_module_version": "1.2.0",
      "_view_name": "StyleView",
      "bar_color": null,
      "description_width": "initial"
     }
    },
    "57eb694ac2ac441995432c61057e0fc2": {
     "model_module": "@jupyter-widgets/base",
     "model_name": "LayoutModel",
     "state": {
      "_model_module": "@jupyter-widgets/base",
      "_model_module_version": "1.2.0",
      "_model_name": "LayoutModel",
      "_view_count": null,
      "_view_module": "@jupyter-widgets/base",
      "_view_module_version": "1.2.0",
      "_view_name": "LayoutView",
      "align_content": null,
      "align_items": null,
      "align_self": null,
      "border": null,
      "bottom": null,
      "display": null,
      "flex": null,
      "flex_flow": null,
      "grid_area": null,
      "grid_auto_columns": null,
      "grid_auto_flow": null,
      "grid_auto_rows": null,
      "grid_column": null,
      "grid_gap": null,
      "grid_row": null,
      "grid_template_areas": null,
      "grid_template_columns": null,
      "grid_template_rows": null,
      "height": null,
      "justify_content": null,
      "justify_items": null,
      "left": null,
      "margin": null,
      "max_height": null,
      "max_width": null,
      "min_height": null,
      "min_width": null,
      "object_fit": null,
      "object_position": null,
      "order": null,
      "overflow": null,
      "overflow_x": null,
      "overflow_y": null,
      "padding": null,
      "right": null,
      "top": null,
      "visibility": null,
      "width": null
     }
    },
    "584a24ebbff943549626c2128c07e2a5": {
     "model_module": "@jupyter-widgets/base",
     "model_name": "LayoutModel",
     "state": {
      "_model_module": "@jupyter-widgets/base",
      "_model_module_version": "1.2.0",
      "_model_name": "LayoutModel",
      "_view_count": null,
      "_view_module": "@jupyter-widgets/base",
      "_view_module_version": "1.2.0",
      "_view_name": "LayoutView",
      "align_content": null,
      "align_items": null,
      "align_self": null,
      "border": null,
      "bottom": null,
      "display": null,
      "flex": null,
      "flex_flow": null,
      "grid_area": null,
      "grid_auto_columns": null,
      "grid_auto_flow": null,
      "grid_auto_rows": null,
      "grid_column": null,
      "grid_gap": null,
      "grid_row": null,
      "grid_template_areas": null,
      "grid_template_columns": null,
      "grid_template_rows": null,
      "height": null,
      "justify_content": null,
      "justify_items": null,
      "left": null,
      "margin": null,
      "max_height": null,
      "max_width": null,
      "min_height": null,
      "min_width": null,
      "object_fit": null,
      "object_position": null,
      "order": null,
      "overflow": null,
      "overflow_x": null,
      "overflow_y": null,
      "padding": null,
      "right": null,
      "top": null,
      "visibility": null,
      "width": null
     }
    },
    "5d6d8ad63c01425897ed3f854c867f52": {
     "model_module": "@jupyter-widgets/controls",
     "model_name": "DescriptionStyleModel",
     "state": {
      "_model_module": "@jupyter-widgets/controls",
      "_model_module_version": "1.5.0",
      "_model_name": "DescriptionStyleModel",
      "_view_count": null,
      "_view_module": "@jupyter-widgets/base",
      "_view_module_version": "1.2.0",
      "_view_name": "StyleView",
      "description_width": ""
     }
    },
    "5f0cf57722db4015a8071b199bafce72": {
     "model_module": "@jupyter-widgets/controls",
     "model_name": "HBoxModel",
     "state": {
      "_dom_classes": [],
      "_model_module": "@jupyter-widgets/controls",
      "_model_module_version": "1.5.0",
      "_model_name": "HBoxModel",
      "_view_count": null,
      "_view_module": "@jupyter-widgets/controls",
      "_view_module_version": "1.5.0",
      "_view_name": "HBoxView",
      "box_style": "",
      "children": [
       "IPY_MODEL_3974e28d60844f51851ea26a77b729fb",
       "IPY_MODEL_619c192a71934b0f861b20030e65d2e4"
      ],
      "layout": "IPY_MODEL_7263def7dfc84bc193bc8bc96a3d7501"
     }
    },
    "619c192a71934b0f861b20030e65d2e4": {
     "model_module": "@jupyter-widgets/controls",
     "model_name": "HTMLModel",
     "state": {
      "_dom_classes": [],
      "_model_module": "@jupyter-widgets/controls",
      "_model_module_version": "1.5.0",
      "_model_name": "HTMLModel",
      "_view_count": null,
      "_view_module": "@jupyter-widgets/controls",
      "_view_module_version": "1.5.0",
      "_view_name": "HTMLView",
      "description": "",
      "description_tooltip": null,
      "layout": "IPY_MODEL_584a24ebbff943549626c2128c07e2a5",
      "placeholder": "​",
      "style": "IPY_MODEL_5d6d8ad63c01425897ed3f854c867f52",
      "value": " 232k/232k [00:00&lt;00:00, 1.53MB/s]"
     }
    },
    "7263def7dfc84bc193bc8bc96a3d7501": {
     "model_module": "@jupyter-widgets/base",
     "model_name": "LayoutModel",
     "state": {
      "_model_module": "@jupyter-widgets/base",
      "_model_module_version": "1.2.0",
      "_model_name": "LayoutModel",
      "_view_count": null,
      "_view_module": "@jupyter-widgets/base",
      "_view_module_version": "1.2.0",
      "_view_name": "LayoutView",
      "align_content": null,
      "align_items": null,
      "align_self": null,
      "border": null,
      "bottom": null,
      "display": null,
      "flex": null,
      "flex_flow": null,
      "grid_area": null,
      "grid_auto_columns": null,
      "grid_auto_flow": null,
      "grid_auto_rows": null,
      "grid_column": null,
      "grid_gap": null,
      "grid_row": null,
      "grid_template_areas": null,
      "grid_template_columns": null,
      "grid_template_rows": null,
      "height": null,
      "justify_content": null,
      "justify_items": null,
      "left": null,
      "margin": null,
      "max_height": null,
      "max_width": null,
      "min_height": null,
      "min_width": null,
      "object_fit": null,
      "object_position": null,
      "order": null,
      "overflow": null,
      "overflow_x": null,
      "overflow_y": null,
      "padding": null,
      "right": null,
      "top": null,
      "visibility": null,
      "width": null
     }
    },
    "7a25e06af56542d8a6eddbac52a364f1": {
     "model_module": "@jupyter-widgets/controls",
     "model_name": "HTMLModel",
     "state": {
      "_dom_classes": [],
      "_model_module": "@jupyter-widgets/controls",
      "_model_module_version": "1.5.0",
      "_model_name": "HTMLModel",
      "_view_count": null,
      "_view_module": "@jupyter-widgets/controls",
      "_view_module_version": "1.5.0",
      "_view_name": "HTMLView",
      "description": "",
      "description_tooltip": null,
      "layout": "IPY_MODEL_00464d528f264340a810073f38b9513f",
      "placeholder": "​",
      "style": "IPY_MODEL_fedcacc8fec64bdeabf5f7b75fee4e53",
      "value": " 440M/440M [00:24&lt;00:00, 17.7MB/s]"
     }
    },
    "7db6385b88fd4a20a8c98adce62c8a1e": {
     "model_module": "@jupyter-widgets/controls",
     "model_name": "ProgressStyleModel",
     "state": {
      "_model_module": "@jupyter-widgets/controls",
      "_model_module_version": "1.5.0",
      "_model_name": "ProgressStyleModel",
      "_view_count": null,
      "_view_module": "@jupyter-widgets/base",
      "_view_module_version": "1.2.0",
      "_view_name": "StyleView",
      "bar_color": null,
      "description_width": "initial"
     }
    },
    "8f7bc2471fa642e2a4d92eb50504dac6": {
     "model_module": "@jupyter-widgets/base",
     "model_name": "LayoutModel",
     "state": {
      "_model_module": "@jupyter-widgets/base",
      "_model_module_version": "1.2.0",
      "_model_name": "LayoutModel",
      "_view_count": null,
      "_view_module": "@jupyter-widgets/base",
      "_view_module_version": "1.2.0",
      "_view_name": "LayoutView",
      "align_content": null,
      "align_items": null,
      "align_self": null,
      "border": null,
      "bottom": null,
      "display": null,
      "flex": null,
      "flex_flow": null,
      "grid_area": null,
      "grid_auto_columns": null,
      "grid_auto_flow": null,
      "grid_auto_rows": null,
      "grid_column": null,
      "grid_gap": null,
      "grid_row": null,
      "grid_template_areas": null,
      "grid_template_columns": null,
      "grid_template_rows": null,
      "height": null,
      "justify_content": null,
      "justify_items": null,
      "left": null,
      "margin": null,
      "max_height": null,
      "max_width": null,
      "min_height": null,
      "min_width": null,
      "object_fit": null,
      "object_position": null,
      "order": null,
      "overflow": null,
      "overflow_x": null,
      "overflow_y": null,
      "padding": null,
      "right": null,
      "top": null,
      "visibility": null,
      "width": null
     }
    },
    "9f854778bb4749cf88d5958a5cb556dc": {
     "model_module": "@jupyter-widgets/controls",
     "model_name": "HTMLModel",
     "state": {
      "_dom_classes": [],
      "_model_module": "@jupyter-widgets/controls",
      "_model_module_version": "1.5.0",
      "_model_name": "HTMLModel",
      "_view_count": null,
      "_view_module": "@jupyter-widgets/controls",
      "_view_module_version": "1.5.0",
      "_view_name": "HTMLView",
      "description": "",
      "description_tooltip": null,
      "layout": "IPY_MODEL_d4000e2769024b89a49f3bfe47f7f981",
      "placeholder": "​",
      "style": "IPY_MODEL_cde96077e2534fad842f21844fbf2560",
      "value": " 433/433 [00:00&lt;00:00, 1.28kB/s]"
     }
    },
    "aafe1b808f12406eb941655c3ed34126": {
     "model_module": "@jupyter-widgets/base",
     "model_name": "LayoutModel",
     "state": {
      "_model_module": "@jupyter-widgets/base",
      "_model_module_version": "1.2.0",
      "_model_name": "LayoutModel",
      "_view_count": null,
      "_view_module": "@jupyter-widgets/base",
      "_view_module_version": "1.2.0",
      "_view_name": "LayoutView",
      "align_content": null,
      "align_items": null,
      "align_self": null,
      "border": null,
      "bottom": null,
      "display": null,
      "flex": null,
      "flex_flow": null,
      "grid_area": null,
      "grid_auto_columns": null,
      "grid_auto_flow": null,
      "grid_auto_rows": null,
      "grid_column": null,
      "grid_gap": null,
      "grid_row": null,
      "grid_template_areas": null,
      "grid_template_columns": null,
      "grid_template_rows": null,
      "height": null,
      "justify_content": null,
      "justify_items": null,
      "left": null,
      "margin": null,
      "max_height": null,
      "max_width": null,
      "min_height": null,
      "min_width": null,
      "object_fit": null,
      "object_position": null,
      "order": null,
      "overflow": null,
      "overflow_x": null,
      "overflow_y": null,
      "padding": null,
      "right": null,
      "top": null,
      "visibility": null,
      "width": null
     }
    },
    "ca4e32d736ee4ce8b980018df2eca6d7": {
     "model_module": "@jupyter-widgets/controls",
     "model_name": "FloatProgressModel",
     "state": {
      "_dom_classes": [],
      "_model_module": "@jupyter-widgets/controls",
      "_model_module_version": "1.5.0",
      "_model_name": "FloatProgressModel",
      "_view_count": null,
      "_view_module": "@jupyter-widgets/controls",
      "_view_module_version": "1.5.0",
      "_view_name": "ProgressView",
      "bar_style": "success",
      "description": "Downloading: 100%",
      "description_tooltip": null,
      "layout": "IPY_MODEL_d04f5847144e4590b77732c3f65094cc",
      "max": 433,
      "min": 0,
      "orientation": "horizontal",
      "style": "IPY_MODEL_2a6a3e8573684d4fb38db1b54e6bb136",
      "value": 433
     }
    },
    "cde96077e2534fad842f21844fbf2560": {
     "model_module": "@jupyter-widgets/controls",
     "model_name": "DescriptionStyleModel",
     "state": {
      "_model_module": "@jupyter-widgets/controls",
      "_model_module_version": "1.5.0",
      "_model_name": "DescriptionStyleModel",
      "_view_count": null,
      "_view_module": "@jupyter-widgets/base",
      "_view_module_version": "1.2.0",
      "_view_name": "StyleView",
      "description_width": ""
     }
    },
    "d04f5847144e4590b77732c3f65094cc": {
     "model_module": "@jupyter-widgets/base",
     "model_name": "LayoutModel",
     "state": {
      "_model_module": "@jupyter-widgets/base",
      "_model_module_version": "1.2.0",
      "_model_name": "LayoutModel",
      "_view_count": null,
      "_view_module": "@jupyter-widgets/base",
      "_view_module_version": "1.2.0",
      "_view_name": "LayoutView",
      "align_content": null,
      "align_items": null,
      "align_self": null,
      "border": null,
      "bottom": null,
      "display": null,
      "flex": null,
      "flex_flow": null,
      "grid_area": null,
      "grid_auto_columns": null,
      "grid_auto_flow": null,
      "grid_auto_rows": null,
      "grid_column": null,
      "grid_gap": null,
      "grid_row": null,
      "grid_template_areas": null,
      "grid_template_columns": null,
      "grid_template_rows": null,
      "height": null,
      "justify_content": null,
      "justify_items": null,
      "left": null,
      "margin": null,
      "max_height": null,
      "max_width": null,
      "min_height": null,
      "min_width": null,
      "object_fit": null,
      "object_position": null,
      "order": null,
      "overflow": null,
      "overflow_x": null,
      "overflow_y": null,
      "padding": null,
      "right": null,
      "top": null,
      "visibility": null,
      "width": null
     }
    },
    "d4000e2769024b89a49f3bfe47f7f981": {
     "model_module": "@jupyter-widgets/base",
     "model_name": "LayoutModel",
     "state": {
      "_model_module": "@jupyter-widgets/base",
      "_model_module_version": "1.2.0",
      "_model_name": "LayoutModel",
      "_view_count": null,
      "_view_module": "@jupyter-widgets/base",
      "_view_module_version": "1.2.0",
      "_view_name": "LayoutView",
      "align_content": null,
      "align_items": null,
      "align_self": null,
      "border": null,
      "bottom": null,
      "display": null,
      "flex": null,
      "flex_flow": null,
      "grid_area": null,
      "grid_auto_columns": null,
      "grid_auto_flow": null,
      "grid_auto_rows": null,
      "grid_column": null,
      "grid_gap": null,
      "grid_row": null,
      "grid_template_areas": null,
      "grid_template_columns": null,
      "grid_template_rows": null,
      "height": null,
      "justify_content": null,
      "justify_items": null,
      "left": null,
      "margin": null,
      "max_height": null,
      "max_width": null,
      "min_height": null,
      "min_width": null,
      "object_fit": null,
      "object_position": null,
      "order": null,
      "overflow": null,
      "overflow_x": null,
      "overflow_y": null,
      "padding": null,
      "right": null,
      "top": null,
      "visibility": null,
      "width": null
     }
    },
    "e1c0e89ebc0c4c129f529717c47f21f0": {
     "model_module": "@jupyter-widgets/controls",
     "model_name": "HBoxModel",
     "state": {
      "_dom_classes": [],
      "_model_module": "@jupyter-widgets/controls",
      "_model_module_version": "1.5.0",
      "_model_name": "HBoxModel",
      "_view_count": null,
      "_view_module": "@jupyter-widgets/controls",
      "_view_module_version": "1.5.0",
      "_view_name": "HBoxView",
      "box_style": "",
      "children": [
       "IPY_MODEL_e72ef8d0fd57477da2fbbad17ceb7424",
       "IPY_MODEL_7a25e06af56542d8a6eddbac52a364f1"
      ],
      "layout": "IPY_MODEL_57eb694ac2ac441995432c61057e0fc2"
     }
    },
    "e72ef8d0fd57477da2fbbad17ceb7424": {
     "model_module": "@jupyter-widgets/controls",
     "model_name": "FloatProgressModel",
     "state": {
      "_dom_classes": [],
      "_model_module": "@jupyter-widgets/controls",
      "_model_module_version": "1.5.0",
      "_model_name": "FloatProgressModel",
      "_view_count": null,
      "_view_module": "@jupyter-widgets/controls",
      "_view_module_version": "1.5.0",
      "_view_name": "ProgressView",
      "bar_style": "success",
      "description": "Downloading: 100%",
      "description_tooltip": null,
      "layout": "IPY_MODEL_aafe1b808f12406eb941655c3ed34126",
      "max": 440473133,
      "min": 0,
      "orientation": "horizontal",
      "style": "IPY_MODEL_4cc3b758f5da4d91a11eb50b2423a911",
      "value": 440473133
     }
    },
    "fedcacc8fec64bdeabf5f7b75fee4e53": {
     "model_module": "@jupyter-widgets/controls",
     "model_name": "DescriptionStyleModel",
     "state": {
      "_model_module": "@jupyter-widgets/controls",
      "_model_module_version": "1.5.0",
      "_model_name": "DescriptionStyleModel",
      "_view_count": null,
      "_view_module": "@jupyter-widgets/base",
      "_view_module_version": "1.2.0",
      "_view_name": "StyleView",
      "description_width": ""
     }
    }
   }
  }
 },
 "nbformat": 4,
 "nbformat_minor": 1
}
